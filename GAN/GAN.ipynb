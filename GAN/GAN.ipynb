{
 "cells": [
  {
   "cell_type": "code",
   "execution_count": 1,
   "metadata": {},
   "outputs": [
    {
     "name": "stderr",
     "output_type": "stream",
     "text": [
      "D:\\LLAS\\lib\\site-packages\\h5py\\__init__.py:36: FutureWarning: Conversion of the second argument of issubdtype from `float` to `np.floating` is deprecated. In future, it will be treated as `np.float64 == np.dtype(float).type`.\n",
      "  from ._conv import register_converters as _register_converters\n",
      "Using TensorFlow backend.\n"
     ]
    }
   ],
   "source": [
    "import keras\n",
    "import numpy as np\n",
    "import tensorflow as tf\n",
    "import matplotlib.pyplot as plt"
   ]
  },
  {
   "cell_type": "markdown",
   "metadata": {},
   "source": [
    "<h1>import Data</h1>"
   ]
  },
  {
   "cell_type": "code",
   "execution_count": 2,
   "metadata": {
    "scrolled": true
   },
   "outputs": [
    {
     "name": "stdout",
     "output_type": "stream",
     "text": [
      "Extracting ./mnist/data/train-images-idx3-ubyte.gz\n",
      "Extracting ./mnist/data/train-labels-idx1-ubyte.gz\n",
      "Extracting ./mnist/data/t10k-images-idx3-ubyte.gz\n",
      "Extracting ./mnist/data/t10k-labels-idx1-ubyte.gz\n"
     ]
    }
   ],
   "source": [
    "from tensorflow.examples.tutorials.mnist import input_data\n",
    "mnist = input_data.read_data_sets(\"./mnist/data/\",one_hot=True)"
   ]
  },
  {
   "cell_type": "markdown",
   "metadata": {},
   "source": [
    "<h1>Set Hiper Piramiter</h1>"
   ]
  },
  {
   "cell_type": "code",
   "execution_count": 19,
   "metadata": {},
   "outputs": [],
   "source": [
    "total_epoch = 200\n",
    "batch_size = 50\n",
    "learning_rate = 0.0001\n",
    "n_hidden = 256\n",
    "n_input = 28*28\n",
    "n_noise = 128"
   ]
  },
  {
   "cell_type": "markdown",
   "metadata": {},
   "source": [
    "<h1>Setting Input Tendor</h1>"
   ]
  },
  {
   "cell_type": "code",
   "execution_count": 4,
   "metadata": {},
   "outputs": [],
   "source": [
    "#Real data\n",
    "X = tf.placeholder(tf.float32,[None,n_input])\n",
    "#Noise data\n",
    "Z = tf.placeholder(tf.float32,[None,n_noise])\n",
    "#Not used Y"
   ]
  },
  {
   "cell_type": "markdown",
   "metadata": {},
   "source": [
    "<h1>Setting Tensor to Makes Hidden Layers</h1>"
   ]
  },
  {
   "cell_type": "code",
   "execution_count": 5,
   "metadata": {},
   "outputs": [],
   "source": [
    "G_W1 = tf.Variable(tf.random_normal([n_noise, n_hidden],stddev=0.1))\n",
    "G_B1 = tf.Variable(tf.zeros([n_hidden]))\n",
    "\n",
    "G_W2 = tf.Variable(tf.random_normal([n_hidden, n_input],stddev=0.1))\n",
    "G_B2 = tf.Variable(tf.zeros([n_input]))"
   ]
  },
  {
   "cell_type": "markdown",
   "metadata": {},
   "source": [
    "<h1>Setting Tensor to Makes Discriminator Layers</h1>"
   ]
  },
  {
   "cell_type": "code",
   "execution_count": 6,
   "metadata": {},
   "outputs": [],
   "source": [
    "D_W1 = tf.Variable(tf.random_normal([n_input, n_hidden],stddev=0.1))\n",
    "D_B1 = tf.Variable(tf.zeros([n_hidden]))\n",
    "\n",
    "D_W2 = tf.Variable(tf.random_normal([n_hidden, 1],stddev=0.1))\n",
    "D_B2 = tf.Variable(tf.zeros([1]))"
   ]
  },
  {
   "cell_type": "markdown",
   "metadata": {},
   "source": [
    "<h1>Create Generator</h1>"
   ]
  },
  {
   "cell_type": "code",
   "execution_count": 7,
   "metadata": {},
   "outputs": [],
   "source": [
    "def generator(noise_z):\n",
    "    hidden = tf.nn.relu( tf.matmul( noise_z, G_W1 ) + G_B1 )\n",
    "    output = tf.nn.sigmoid( tf.matmul( hidden, G_W2 ) + G_B2 )\n",
    "    return output"
   ]
  },
  {
   "cell_type": "markdown",
   "metadata": {},
   "source": [
    "<h1>Create Discriminator</h1>"
   ]
  },
  {
   "cell_type": "code",
   "execution_count": 8,
   "metadata": {},
   "outputs": [],
   "source": [
    "def discriminaster(inputs):\n",
    "    hidden = tf.nn.relu( tf.matmul( inputs, D_W1 ) + D_B1 )\n",
    "    output = tf.nn.sigmoid( tf.matmul( hidden, D_W2) + D_B2 )\n",
    "    return output"
   ]
  },
  {
   "cell_type": "markdown",
   "metadata": {},
   "source": [
    "<h1>Function to Make Noise-Data</h1>"
   ]
  },
  {
   "cell_type": "code",
   "execution_count": 9,
   "metadata": {},
   "outputs": [],
   "source": [
    "def get_noise(batch_size, n_noise):\n",
    "    return np.random.normal( size = ( batch_size, n_noise ) )"
   ]
  },
  {
   "cell_type": "markdown",
   "metadata": {},
   "source": [
    "<h1>Maker Definition used Noise</h1>"
   ]
  },
  {
   "cell_type": "code",
   "execution_count": 10,
   "metadata": {},
   "outputs": [],
   "source": [
    "G = generator(Z)\n",
    "D_gene  = discriminaster(G)\n",
    "D_real = discriminaster(X)"
   ]
  },
  {
   "cell_type": "markdown",
   "metadata": {},
   "source": [
    "<h1>Definition to Loss functions</h1>"
   ]
  },
  {
   "cell_type": "code",
   "execution_count": 11,
   "metadata": {},
   "outputs": [],
   "source": [
    "loss_D = tf.reduce_mean( tf.log( D_real ) + tf.log( 1 - D_gene ) )\n",
    "loss_G = tf.reduce_mean( tf.log( D_gene ) )"
   ]
  },
  {
   "cell_type": "markdown",
   "metadata": {},
   "source": [
    "<h1>Split G / D Variables</h1>"
   ]
  },
  {
   "cell_type": "code",
   "execution_count": 12,
   "metadata": {},
   "outputs": [],
   "source": [
    "D_variable_list = [D_W1, D_B1, D_W2, D_B2]\n",
    "G_variable_list = [G_W1, G_B1, G_W2, G_B2]"
   ]
  },
  {
   "cell_type": "markdown",
   "metadata": {},
   "source": [
    "<h1>Optimizer Setting</h1>"
   ]
  },
  {
   "cell_type": "code",
   "execution_count": 13,
   "metadata": {},
   "outputs": [],
   "source": [
    "train_D = tf.train.AdamOptimizer(learning_rate).minimize(-loss_D,var_list = D_variable_list)\n",
    "\n",
    "train_G = tf.train.AdamOptimizer(learning_rate).minimize(-loss_G,var_list = G_variable_list)"
   ]
  },
  {
   "cell_type": "markdown",
   "metadata": {},
   "source": [
    "<h1>Setting etc....</h1>"
   ]
  },
  {
   "cell_type": "code",
   "execution_count": 14,
   "metadata": {},
   "outputs": [],
   "source": [
    "total_batch = int(mnist.train.num_examples / batch_size)\n",
    "loss_val_D = 0\n",
    "loss_val_G = 0"
   ]
  },
  {
   "cell_type": "markdown",
   "metadata": {},
   "source": [
    "<h1>Make Tensor-Flow Session</h1>"
   ]
  },
  {
   "cell_type": "code",
   "execution_count": 15,
   "metadata": {},
   "outputs": [],
   "source": [
    "sess = tf.Session()\n",
    "sess.run(tf.global_variables_initializer())"
   ]
  },
  {
   "cell_type": "code",
   "execution_count": 20,
   "metadata": {},
   "outputs": [
    {
     "name": "stdout",
     "output_type": "stream",
     "text": [
      "Epoch :  0000 D loss : { -0.31693104 } G loss : { -2.3345542 }\n",
      "Epoch :  0000 D loss : { -0.23396075 } G loss : { -2.3738325 }\n",
      "Epoch :  0000 D loss : { -0.1969789 } G loss : { -2.406312 }\n",
      "Epoch :  0000 D loss : { -0.23536567 } G loss : { -2.3010793 }\n",
      "Epoch :  0000 D loss : { -0.22380994 } G loss : { -2.2253942 }\n",
      "Epoch :  0000 D loss : { -0.2752008 } G loss : { -2.2628744 }\n",
      "Epoch :  0000 D loss : { -0.26156685 } G loss : { -2.0975437 }\n",
      "Epoch :  0000 D loss : { -0.22701897 } G loss : { -2.26929 }\n",
      "Epoch :  0000 D loss : { -0.22854653 } G loss : { -2.2120695 }\n",
      "Epoch :  0000 D loss : { -0.2237648 } G loss : { -2.2834046 }\n",
      "Epoch :  0000 D loss : { -0.20118862 } G loss : { -2.3152761 }\n",
      "Epoch :  0000 D loss : { -0.2095736 } G loss : { -2.336949 }\n",
      "Epoch :  0000 D loss : { -0.26964954 } G loss : { -2.29556 }\n",
      "Epoch :  0000 D loss : { -0.2653792 } G loss : { -2.0666451 }\n",
      "Epoch :  0000 D loss : { -0.19420996 } G loss : { -2.3090255 }\n",
      "Epoch :  0000 D loss : { -0.20482677 } G loss : { -2.2735276 }\n",
      "Epoch :  0000 D loss : { -0.23352903 } G loss : { -2.2795248 }\n",
      "Epoch :  0000 D loss : { -0.24891117 } G loss : { -2.2707856 }\n",
      "Epoch :  0000 D loss : { -0.21464483 } G loss : { -2.2714994 }\n",
      "Epoch :  0000 D loss : { -0.22348894 } G loss : { -2.4575133 }\n",
      "Epoch :  0000 D loss : { -0.29441366 } G loss : { -2.192484 }\n",
      "Epoch :  0000 D loss : { -0.28706333 } G loss : { -2.2408154 }\n",
      "Epoch :  0000 D loss : { -0.23255987 } G loss : { -2.5043535 }\n",
      "Epoch :  0000 D loss : { -0.2696666 } G loss : { -2.4164104 }\n",
      "Epoch :  0000 D loss : { -0.22751793 } G loss : { -2.3946567 }\n",
      "Epoch :  0000 D loss : { -0.21143226 } G loss : { -2.4034905 }\n",
      "Epoch :  0000 D loss : { -0.20506889 } G loss : { -2.4287603 }\n",
      "Epoch :  0000 D loss : { -0.2680228 } G loss : { -2.3069885 }\n",
      "Epoch :  0000 D loss : { -0.21724182 } G loss : { -2.2503974 }\n",
      "Epoch :  0000 D loss : { -0.18197523 } G loss : { -2.3970683 }\n",
      "Epoch :  0000 D loss : { -0.22861038 } G loss : { -2.2048273 }\n",
      "Epoch :  0000 D loss : { -0.19654247 } G loss : { -2.2651663 }\n",
      "Epoch :  0000 D loss : { -0.2298691 } G loss : { -2.367979 }\n",
      "Epoch :  0000 D loss : { -0.27779877 } G loss : { -2.0866666 }\n",
      "Epoch :  0000 D loss : { -0.2290471 } G loss : { -2.3689404 }\n",
      "Epoch :  0000 D loss : { -0.22258407 } G loss : { -2.2681084 }\n",
      "Epoch :  0000 D loss : { -0.19030441 } G loss : { -2.3672466 }\n",
      "Epoch :  0000 D loss : { -0.26342252 } G loss : { -2.4165404 }\n",
      "Epoch :  0000 D loss : { -0.24199602 } G loss : { -2.4523468 }\n",
      "Epoch :  0000 D loss : { -0.25220212 } G loss : { -2.2925353 }\n",
      "Epoch :  0000 D loss : { -0.23721273 } G loss : { -2.3891492 }\n",
      "Epoch :  0000 D loss : { -0.26280367 } G loss : { -2.3489559 }\n",
      "Epoch :  0000 D loss : { -0.27385187 } G loss : { -2.3540583 }\n",
      "Epoch :  0000 D loss : { -0.22915784 } G loss : { -2.2782845 }\n",
      "Epoch :  0000 D loss : { -0.23447582 } G loss : { -2.2425284 }\n",
      "Epoch :  0000 D loss : { -0.23527783 } G loss : { -2.146628 }\n",
      "Epoch :  0000 D loss : { -0.28137645 } G loss : { -2.181364 }\n",
      "Epoch :  0000 D loss : { -0.25080582 } G loss : { -2.2136564 }\n",
      "Epoch :  0000 D loss : { -0.33230457 } G loss : { -2.3388343 }\n",
      "Epoch :  0000 D loss : { -0.2657867 } G loss : { -2.0987816 }\n",
      "Epoch :  0000 D loss : { -0.32561803 } G loss : { -1.9724482 }\n",
      "Epoch :  0000 D loss : { -0.21371411 } G loss : { -2.2196062 }\n",
      "Epoch :  0000 D loss : { -0.33120754 } G loss : { -2.066474 }\n",
      "Epoch :  0000 D loss : { -0.2978588 } G loss : { -2.0527456 }\n",
      "Epoch :  0000 D loss : { -0.3074495 } G loss : { -2.2592983 }\n",
      "Epoch :  0000 D loss : { -0.23654427 } G loss : { -2.2409751 }\n",
      "Epoch :  0000 D loss : { -0.28367332 } G loss : { -2.0658784 }\n",
      "Epoch :  0000 D loss : { -0.31529817 } G loss : { -2.2475047 }\n",
      "Epoch :  0000 D loss : { -0.2886592 } G loss : { -2.094904 }\n",
      "Epoch :  0000 D loss : { -0.23322816 } G loss : { -2.2670183 }\n",
      "Epoch :  0000 D loss : { -0.21939099 } G loss : { -2.3083718 }\n",
      "Epoch :  0000 D loss : { -0.23762272 } G loss : { -2.2298775 }\n",
      "Epoch :  0000 D loss : { -0.289487 } G loss : { -2.0607307 }\n",
      "Epoch :  0000 D loss : { -0.29402614 } G loss : { -2.1345673 }\n",
      "Epoch :  0000 D loss : { -0.29160473 } G loss : { -2.1015048 }\n",
      "Epoch :  0000 D loss : { -0.32305717 } G loss : { -1.9627583 }\n",
      "Epoch :  0000 D loss : { -0.33448154 } G loss : { -2.0939023 }\n",
      "Epoch :  0000 D loss : { -0.3238475 } G loss : { -2.1767511 }\n",
      "Epoch :  0000 D loss : { -0.24181318 } G loss : { -2.3506467 }\n",
      "Epoch :  0000 D loss : { -0.28899768 } G loss : { -2.2429397 }\n",
      "Epoch :  0000 D loss : { -0.32055268 } G loss : { -2.245464 }\n",
      "Epoch :  0000 D loss : { -0.29662192 } G loss : { -2.0301292 }\n",
      "Epoch :  0000 D loss : { -0.32408208 } G loss : { -2.2610443 }\n",
      "Epoch :  0000 D loss : { -0.23540156 } G loss : { -2.2499728 }\n",
      "Epoch :  0000 D loss : { -0.22881748 } G loss : { -2.3953414 }\n",
      "Epoch :  0000 D loss : { -0.33418155 } G loss : { -2.3142948 }\n",
      "Epoch :  0000 D loss : { -0.26678887 } G loss : { -2.1972044 }\n",
      "Epoch :  0000 D loss : { -0.27946603 } G loss : { -2.1555722 }\n",
      "Epoch :  0000 D loss : { -0.30709973 } G loss : { -2.206749 }\n",
      "Epoch :  0000 D loss : { -0.30792534 } G loss : { -2.1774914 }\n",
      "Epoch :  0000 D loss : { -0.2909114 } G loss : { -2.1851206 }\n",
      "Epoch :  0000 D loss : { -0.32417828 } G loss : { -1.9966879 }\n",
      "Epoch :  0000 D loss : { -0.30620453 } G loss : { -2.0349276 }\n",
      "Epoch :  0000 D loss : { -0.29549962 } G loss : { -2.1823473 }\n",
      "Epoch :  0000 D loss : { -0.30652508 } G loss : { -2.0840604 }\n",
      "Epoch :  0000 D loss : { -0.37041062 } G loss : { -2.0053647 }\n",
      "Epoch :  0000 D loss : { -0.2759767 } G loss : { -1.9519163 }\n",
      "Epoch :  0000 D loss : { -0.36016506 } G loss : { -1.9128485 }\n",
      "Epoch :  0000 D loss : { -0.2833892 } G loss : { -2.0039346 }\n",
      "Epoch :  0000 D loss : { -0.377294 } G loss : { -2.0649066 }\n",
      "Epoch :  0000 D loss : { -0.36736274 } G loss : { -2.0347 }\n",
      "Epoch :  0000 D loss : { -0.30026755 } G loss : { -1.948383 }\n",
      "Epoch :  0000 D loss : { -0.45454502 } G loss : { -2.092093 }\n",
      "Epoch :  0000 D loss : { -0.4847349 } G loss : { -1.9421616 }\n",
      "Epoch :  0000 D loss : { -0.36012626 } G loss : { -2.022059 }\n",
      "Epoch :  0000 D loss : { -0.25586894 } G loss : { -2.191068 }\n",
      "Epoch :  0000 D loss : { -0.30795497 } G loss : { -2.1139987 }\n",
      "Epoch :  0000 D loss : { -0.34033614 } G loss : { -2.206209 }\n",
      "Epoch :  0000 D loss : { -0.41445503 } G loss : { -2.0475523 }\n",
      "Epoch :  0000 D loss : { -0.26444846 } G loss : { -2.2341034 }\n",
      "Epoch :  0000 D loss : { -0.279617 } G loss : { -2.083152 }\n",
      "Epoch :  0000 D loss : { -0.3649841 } G loss : { -1.9821336 }\n",
      "Epoch :  0000 D loss : { -0.28917506 } G loss : { -2.0775673 }\n",
      "Epoch :  0000 D loss : { -0.24183355 } G loss : { -2.1627297 }\n",
      "Epoch :  0000 D loss : { -0.28189257 } G loss : { -2.0647805 }\n",
      "Epoch :  0000 D loss : { -0.29126212 } G loss : { -2.0229995 }\n",
      "Epoch :  0000 D loss : { -0.31558698 } G loss : { -2.132771 }\n",
      "Epoch :  0000 D loss : { -0.3567599 } G loss : { -2.0703716 }\n",
      "Epoch :  0000 D loss : { -0.3010799 } G loss : { -2.0596585 }\n",
      "Epoch :  0000 D loss : { -0.30598137 } G loss : { -2.1022274 }\n",
      "Epoch :  0000 D loss : { -0.23940767 } G loss : { -2.1906388 }\n",
      "Epoch :  0000 D loss : { -0.34944794 } G loss : { -2.2032342 }\n",
      "Epoch :  0000 D loss : { -0.28589705 } G loss : { -2.2004015 }\n",
      "Epoch :  0000 D loss : { -0.30712214 } G loss : { -2.157223 }\n",
      "Epoch :  0000 D loss : { -0.2944039 } G loss : { -2.1665478 }\n",
      "Epoch :  0000 D loss : { -0.2728701 } G loss : { -2.1450331 }\n",
      "Epoch :  0000 D loss : { -0.27896297 } G loss : { -2.241324 }\n",
      "Epoch :  0000 D loss : { -0.29446116 } G loss : { -2.2061467 }\n",
      "Epoch :  0000 D loss : { -0.25145793 } G loss : { -2.179404 }\n",
      "Epoch :  0000 D loss : { -0.26715022 } G loss : { -2.1161513 }\n",
      "Epoch :  0000 D loss : { -0.2994465 } G loss : { -2.273511 }\n",
      "Epoch :  0000 D loss : { -0.37213352 } G loss : { -2.0407205 }\n",
      "Epoch :  0000 D loss : { -0.25669533 } G loss : { -2.2303824 }\n",
      "Epoch :  0000 D loss : { -0.4143539 } G loss : { -2.0149243 }\n",
      "Epoch :  0000 D loss : { -0.27881274 } G loss : { -2.207818 }\n",
      "Epoch :  0000 D loss : { -0.28409198 } G loss : { -2.2209773 }\n",
      "Epoch :  0000 D loss : { -0.2782877 } G loss : { -2.072571 }\n",
      "Epoch :  0000 D loss : { -0.28559056 } G loss : { -2.100821 }\n",
      "Epoch :  0000 D loss : { -0.27480733 } G loss : { -2.0919075 }\n",
      "Epoch :  0000 D loss : { -0.31551424 } G loss : { -2.1207452 }\n",
      "Epoch :  0000 D loss : { -0.21927221 } G loss : { -2.2552664 }\n",
      "Epoch :  0000 D loss : { -0.28518164 } G loss : { -2.0949626 }\n"
     ]
    },
    {
     "ename": "KeyboardInterrupt",
     "evalue": "",
     "output_type": "error",
     "traceback": [
      "\u001b[1;31m---------------------------------------------------------------------------\u001b[0m",
      "\u001b[1;31mKeyboardInterrupt\u001b[0m                         Traceback (most recent call last)",
      "\u001b[1;32m<ipython-input-20-9a79fef4135d>\u001b[0m in \u001b[0;36m<module>\u001b[1;34m()\u001b[0m\n\u001b[0;32m     15\u001b[0m             \u001b[0msamples\u001b[0m \u001b[1;33m=\u001b[0m \u001b[0msess\u001b[0m\u001b[1;33m.\u001b[0m\u001b[0mrun\u001b[0m\u001b[1;33m(\u001b[0m\u001b[0mG\u001b[0m\u001b[1;33m,\u001b[0m\u001b[0mfeed_dict\u001b[0m\u001b[1;33m=\u001b[0m\u001b[1;33m{\u001b[0m\u001b[0mZ\u001b[0m\u001b[1;33m:\u001b[0m\u001b[0mnoise\u001b[0m\u001b[1;33m}\u001b[0m\u001b[1;33m)\u001b[0m\u001b[1;33m\u001b[0m\u001b[0m\n\u001b[0;32m     16\u001b[0m \u001b[1;33m\u001b[0m\u001b[0m\n\u001b[1;32m---> 17\u001b[1;33m             \u001b[0mfig\u001b[0m\u001b[1;33m,\u001b[0m \u001b[0max\u001b[0m \u001b[1;33m=\u001b[0m \u001b[0mplt\u001b[0m\u001b[1;33m.\u001b[0m\u001b[0msubplots\u001b[0m\u001b[1;33m(\u001b[0m\u001b[1;36m1\u001b[0m\u001b[1;33m,\u001b[0m\u001b[0msample_size\u001b[0m\u001b[1;33m,\u001b[0m\u001b[0mfigsize\u001b[0m\u001b[1;33m=\u001b[0m\u001b[1;33m(\u001b[0m\u001b[0msample_size\u001b[0m\u001b[1;33m,\u001b[0m\u001b[1;36m1\u001b[0m\u001b[1;33m)\u001b[0m\u001b[1;33m)\u001b[0m\u001b[1;33m\u001b[0m\u001b[0m\n\u001b[0m\u001b[0;32m     18\u001b[0m \u001b[1;33m\u001b[0m\u001b[0m\n\u001b[0;32m     19\u001b[0m             \u001b[1;32mfor\u001b[0m \u001b[0mi\u001b[0m \u001b[1;32min\u001b[0m \u001b[0mrange\u001b[0m\u001b[1;33m(\u001b[0m\u001b[0msample_size\u001b[0m\u001b[1;33m)\u001b[0m\u001b[1;33m:\u001b[0m\u001b[1;33m\u001b[0m\u001b[0m\n",
      "\u001b[1;32mD:\\LLAS\\lib\\site-packages\\matplotlib\\pyplot.py\u001b[0m in \u001b[0;36msubplots\u001b[1;34m(nrows, ncols, sharex, sharey, squeeze, subplot_kw, gridspec_kw, **fig_kw)\u001b[0m\n\u001b[0;32m   1177\u001b[0m     axs = fig.subplots(nrows=nrows, ncols=ncols, sharex=sharex, sharey=sharey,\n\u001b[0;32m   1178\u001b[0m                        \u001b[0msqueeze\u001b[0m\u001b[1;33m=\u001b[0m\u001b[0msqueeze\u001b[0m\u001b[1;33m,\u001b[0m \u001b[0msubplot_kw\u001b[0m\u001b[1;33m=\u001b[0m\u001b[0msubplot_kw\u001b[0m\u001b[1;33m,\u001b[0m\u001b[1;33m\u001b[0m\u001b[0m\n\u001b[1;32m-> 1179\u001b[1;33m                        gridspec_kw=gridspec_kw)\n\u001b[0m\u001b[0;32m   1180\u001b[0m     \u001b[1;32mreturn\u001b[0m \u001b[0mfig\u001b[0m\u001b[1;33m,\u001b[0m \u001b[0maxs\u001b[0m\u001b[1;33m\u001b[0m\u001b[0m\n\u001b[0;32m   1181\u001b[0m \u001b[1;33m\u001b[0m\u001b[0m\n",
      "\u001b[1;32mD:\\LLAS\\lib\\site-packages\\matplotlib\\figure.py\u001b[0m in \u001b[0;36msubplots\u001b[1;34m(self, nrows, ncols, sharex, sharey, squeeze, subplot_kw, gridspec_kw)\u001b[0m\n\u001b[0;32m   1181\u001b[0m                 \u001b[0msubplot_kw\u001b[0m\u001b[1;33m[\u001b[0m\u001b[1;34m\"sharex\"\u001b[0m\u001b[1;33m]\u001b[0m \u001b[1;33m=\u001b[0m \u001b[0mshared_with\u001b[0m\u001b[1;33m[\u001b[0m\u001b[0msharex\u001b[0m\u001b[1;33m]\u001b[0m\u001b[1;33m\u001b[0m\u001b[0m\n\u001b[0;32m   1182\u001b[0m                 \u001b[0msubplot_kw\u001b[0m\u001b[1;33m[\u001b[0m\u001b[1;34m\"sharey\"\u001b[0m\u001b[1;33m]\u001b[0m \u001b[1;33m=\u001b[0m \u001b[0mshared_with\u001b[0m\u001b[1;33m[\u001b[0m\u001b[0msharey\u001b[0m\u001b[1;33m]\u001b[0m\u001b[1;33m\u001b[0m\u001b[0m\n\u001b[1;32m-> 1183\u001b[1;33m                 \u001b[0maxarr\u001b[0m\u001b[1;33m[\u001b[0m\u001b[0mrow\u001b[0m\u001b[1;33m,\u001b[0m \u001b[0mcol\u001b[0m\u001b[1;33m]\u001b[0m \u001b[1;33m=\u001b[0m \u001b[0mself\u001b[0m\u001b[1;33m.\u001b[0m\u001b[0madd_subplot\u001b[0m\u001b[1;33m(\u001b[0m\u001b[0mgs\u001b[0m\u001b[1;33m[\u001b[0m\u001b[0mrow\u001b[0m\u001b[1;33m,\u001b[0m \u001b[0mcol\u001b[0m\u001b[1;33m]\u001b[0m\u001b[1;33m,\u001b[0m \u001b[1;33m**\u001b[0m\u001b[0msubplot_kw\u001b[0m\u001b[1;33m)\u001b[0m\u001b[1;33m\u001b[0m\u001b[0m\n\u001b[0m\u001b[0;32m   1184\u001b[0m \u001b[1;33m\u001b[0m\u001b[0m\n\u001b[0;32m   1185\u001b[0m         \u001b[1;31m# turn off redundant tick labeling\u001b[0m\u001b[1;33m\u001b[0m\u001b[1;33m\u001b[0m\u001b[0m\n",
      "\u001b[1;32mD:\\LLAS\\lib\\site-packages\\matplotlib\\figure.py\u001b[0m in \u001b[0;36madd_subplot\u001b[1;34m(self, *args, **kwargs)\u001b[0m\n\u001b[0;32m   1072\u001b[0m                     \u001b[0mself\u001b[0m\u001b[1;33m.\u001b[0m\u001b[0m_axstack\u001b[0m\u001b[1;33m.\u001b[0m\u001b[0mremove\u001b[0m\u001b[1;33m(\u001b[0m\u001b[0max\u001b[0m\u001b[1;33m)\u001b[0m\u001b[1;33m\u001b[0m\u001b[0m\n\u001b[0;32m   1073\u001b[0m \u001b[1;33m\u001b[0m\u001b[0m\n\u001b[1;32m-> 1074\u001b[1;33m             \u001b[0ma\u001b[0m \u001b[1;33m=\u001b[0m \u001b[0msubplot_class_factory\u001b[0m\u001b[1;33m(\u001b[0m\u001b[0mprojection_class\u001b[0m\u001b[1;33m)\u001b[0m\u001b[1;33m(\u001b[0m\u001b[0mself\u001b[0m\u001b[1;33m,\u001b[0m \u001b[1;33m*\u001b[0m\u001b[0margs\u001b[0m\u001b[1;33m,\u001b[0m \u001b[1;33m**\u001b[0m\u001b[0mkwargs\u001b[0m\u001b[1;33m)\u001b[0m\u001b[1;33m\u001b[0m\u001b[0m\n\u001b[0m\u001b[0;32m   1075\u001b[0m \u001b[1;33m\u001b[0m\u001b[0m\n\u001b[0;32m   1076\u001b[0m         \u001b[0mself\u001b[0m\u001b[1;33m.\u001b[0m\u001b[0m_axstack\u001b[0m\u001b[1;33m.\u001b[0m\u001b[0madd\u001b[0m\u001b[1;33m(\u001b[0m\u001b[0mkey\u001b[0m\u001b[1;33m,\u001b[0m \u001b[0ma\u001b[0m\u001b[1;33m)\u001b[0m\u001b[1;33m\u001b[0m\u001b[0m\n",
      "\u001b[1;32mD:\\LLAS\\lib\\site-packages\\matplotlib\\axes\\_subplots.py\u001b[0m in \u001b[0;36m__init__\u001b[1;34m(self, fig, *args, **kwargs)\u001b[0m\n\u001b[0;32m     71\u001b[0m \u001b[1;33m\u001b[0m\u001b[0m\n\u001b[0;32m     72\u001b[0m         \u001b[1;31m# _axes_class is set in the subplot_class_factory\u001b[0m\u001b[1;33m\u001b[0m\u001b[1;33m\u001b[0m\u001b[0m\n\u001b[1;32m---> 73\u001b[1;33m         \u001b[0mself\u001b[0m\u001b[1;33m.\u001b[0m\u001b[0m_axes_class\u001b[0m\u001b[1;33m.\u001b[0m\u001b[0m__init__\u001b[0m\u001b[1;33m(\u001b[0m\u001b[0mself\u001b[0m\u001b[1;33m,\u001b[0m \u001b[0mfig\u001b[0m\u001b[1;33m,\u001b[0m \u001b[0mself\u001b[0m\u001b[1;33m.\u001b[0m\u001b[0mfigbox\u001b[0m\u001b[1;33m,\u001b[0m \u001b[1;33m**\u001b[0m\u001b[0mkwargs\u001b[0m\u001b[1;33m)\u001b[0m\u001b[1;33m\u001b[0m\u001b[0m\n\u001b[0m\u001b[0;32m     74\u001b[0m \u001b[1;33m\u001b[0m\u001b[0m\n\u001b[0;32m     75\u001b[0m     \u001b[1;32mdef\u001b[0m \u001b[0m__reduce__\u001b[0m\u001b[1;33m(\u001b[0m\u001b[0mself\u001b[0m\u001b[1;33m)\u001b[0m\u001b[1;33m:\u001b[0m\u001b[1;33m\u001b[0m\u001b[0m\n",
      "\u001b[1;32mD:\\LLAS\\lib\\site-packages\\matplotlib\\axes\\_base.py\u001b[0m in \u001b[0;36m__init__\u001b[1;34m(self, fig, rect, facecolor, frameon, sharex, sharey, label, xscale, yscale, axisbg, **kwargs)\u001b[0m\n\u001b[0;32m    514\u001b[0m         \u001b[0mself\u001b[0m\u001b[1;33m.\u001b[0m\u001b[0mset_axes_locator\u001b[0m\u001b[1;33m(\u001b[0m\u001b[0mkwargs\u001b[0m\u001b[1;33m.\u001b[0m\u001b[0mget\u001b[0m\u001b[1;33m(\u001b[0m\u001b[1;34m\"axes_locator\"\u001b[0m\u001b[1;33m,\u001b[0m \u001b[1;32mNone\u001b[0m\u001b[1;33m)\u001b[0m\u001b[1;33m)\u001b[0m\u001b[1;33m\u001b[0m\u001b[0m\n\u001b[0;32m    515\u001b[0m \u001b[1;33m\u001b[0m\u001b[0m\n\u001b[1;32m--> 516\u001b[1;33m         \u001b[0mself\u001b[0m\u001b[1;33m.\u001b[0m\u001b[0mspines\u001b[0m \u001b[1;33m=\u001b[0m \u001b[0mself\u001b[0m\u001b[1;33m.\u001b[0m\u001b[0m_gen_axes_spines\u001b[0m\u001b[1;33m(\u001b[0m\u001b[1;33m)\u001b[0m\u001b[1;33m\u001b[0m\u001b[0m\n\u001b[0m\u001b[0;32m    517\u001b[0m \u001b[1;33m\u001b[0m\u001b[0m\n\u001b[0;32m    518\u001b[0m         \u001b[1;31m# this call may differ for non-sep axes, e.g., polar\u001b[0m\u001b[1;33m\u001b[0m\u001b[1;33m\u001b[0m\u001b[0m\n",
      "\u001b[1;32mD:\\LLAS\\lib\\site-packages\\matplotlib\\axes\\_base.py\u001b[0m in \u001b[0;36m_gen_axes_spines\u001b[1;34m(self, locations, offset, units)\u001b[0m\n\u001b[0;32m    960\u001b[0m         return OrderedDict([\n\u001b[0;32m    961\u001b[0m             \u001b[1;33m(\u001b[0m\u001b[1;34m'left'\u001b[0m\u001b[1;33m,\u001b[0m \u001b[0mmspines\u001b[0m\u001b[1;33m.\u001b[0m\u001b[0mSpine\u001b[0m\u001b[1;33m.\u001b[0m\u001b[0mlinear_spine\u001b[0m\u001b[1;33m(\u001b[0m\u001b[0mself\u001b[0m\u001b[1;33m,\u001b[0m \u001b[1;34m'left'\u001b[0m\u001b[1;33m)\u001b[0m\u001b[1;33m)\u001b[0m\u001b[1;33m,\u001b[0m\u001b[1;33m\u001b[0m\u001b[0m\n\u001b[1;32m--> 962\u001b[1;33m             \u001b[1;33m(\u001b[0m\u001b[1;34m'right'\u001b[0m\u001b[1;33m,\u001b[0m \u001b[0mmspines\u001b[0m\u001b[1;33m.\u001b[0m\u001b[0mSpine\u001b[0m\u001b[1;33m.\u001b[0m\u001b[0mlinear_spine\u001b[0m\u001b[1;33m(\u001b[0m\u001b[0mself\u001b[0m\u001b[1;33m,\u001b[0m \u001b[1;34m'right'\u001b[0m\u001b[1;33m)\u001b[0m\u001b[1;33m)\u001b[0m\u001b[1;33m,\u001b[0m\u001b[1;33m\u001b[0m\u001b[0m\n\u001b[0m\u001b[0;32m    963\u001b[0m             \u001b[1;33m(\u001b[0m\u001b[1;34m'bottom'\u001b[0m\u001b[1;33m,\u001b[0m \u001b[0mmspines\u001b[0m\u001b[1;33m.\u001b[0m\u001b[0mSpine\u001b[0m\u001b[1;33m.\u001b[0m\u001b[0mlinear_spine\u001b[0m\u001b[1;33m(\u001b[0m\u001b[0mself\u001b[0m\u001b[1;33m,\u001b[0m \u001b[1;34m'bottom'\u001b[0m\u001b[1;33m)\u001b[0m\u001b[1;33m)\u001b[0m\u001b[1;33m,\u001b[0m\u001b[1;33m\u001b[0m\u001b[0m\n\u001b[0;32m    964\u001b[0m             ('top', mspines.Spine.linear_spine(self, 'top'))])\n",
      "\u001b[1;32mD:\\LLAS\\lib\\site-packages\\matplotlib\\spines.py\u001b[0m in \u001b[0;36mlinear_spine\u001b[1;34m(cls, axes, spine_type, **kwargs)\u001b[0m\n\u001b[0;32m    503\u001b[0m         \u001b[1;32melse\u001b[0m\u001b[1;33m:\u001b[0m\u001b[1;33m\u001b[0m\u001b[0m\n\u001b[0;32m    504\u001b[0m             \u001b[1;32mraise\u001b[0m \u001b[0mValueError\u001b[0m\u001b[1;33m(\u001b[0m\u001b[1;34m'unable to make path for spine \"%s\"'\u001b[0m \u001b[1;33m%\u001b[0m \u001b[0mspine_type\u001b[0m\u001b[1;33m)\u001b[0m\u001b[1;33m\u001b[0m\u001b[0m\n\u001b[1;32m--> 505\u001b[1;33m         \u001b[0mresult\u001b[0m \u001b[1;33m=\u001b[0m \u001b[0mcls\u001b[0m\u001b[1;33m(\u001b[0m\u001b[0maxes\u001b[0m\u001b[1;33m,\u001b[0m \u001b[0mspine_type\u001b[0m\u001b[1;33m,\u001b[0m \u001b[0mpath\u001b[0m\u001b[1;33m,\u001b[0m \u001b[1;33m**\u001b[0m\u001b[0mkwargs\u001b[0m\u001b[1;33m)\u001b[0m\u001b[1;33m\u001b[0m\u001b[0m\n\u001b[0m\u001b[0;32m    506\u001b[0m         \u001b[0mresult\u001b[0m\u001b[1;33m.\u001b[0m\u001b[0mset_visible\u001b[0m\u001b[1;33m(\u001b[0m\u001b[0mrcParams\u001b[0m\u001b[1;33m[\u001b[0m\u001b[1;34m'axes.spines.{0}'\u001b[0m\u001b[1;33m.\u001b[0m\u001b[0mformat\u001b[0m\u001b[1;33m(\u001b[0m\u001b[0mspine_type\u001b[0m\u001b[1;33m)\u001b[0m\u001b[1;33m]\u001b[0m\u001b[1;33m)\u001b[0m\u001b[1;33m\u001b[0m\u001b[0m\n\u001b[0;32m    507\u001b[0m \u001b[1;33m\u001b[0m\u001b[0m\n",
      "\u001b[1;32mD:\\LLAS\\lib\\site-packages\\matplotlib\\spines.py\u001b[0m in \u001b[0;36m__init__\u001b[1;34m(self, axes, spine_type, path, **kwargs)\u001b[0m\n\u001b[0;32m     53\u001b[0m         \u001b[1;33m%\u001b[0m\u001b[1;33m(\u001b[0m\u001b[0mPatch\u001b[0m\u001b[1;33m)\u001b[0m\u001b[0ms\u001b[0m\u001b[1;33m\u001b[0m\u001b[0m\n\u001b[0;32m     54\u001b[0m         \"\"\"\n\u001b[1;32m---> 55\u001b[1;33m         \u001b[0msuper\u001b[0m\u001b[1;33m(\u001b[0m\u001b[0mSpine\u001b[0m\u001b[1;33m,\u001b[0m \u001b[0mself\u001b[0m\u001b[1;33m)\u001b[0m\u001b[1;33m.\u001b[0m\u001b[0m__init__\u001b[0m\u001b[1;33m(\u001b[0m\u001b[1;33m**\u001b[0m\u001b[0mkwargs\u001b[0m\u001b[1;33m)\u001b[0m\u001b[1;33m\u001b[0m\u001b[0m\n\u001b[0m\u001b[0;32m     56\u001b[0m         \u001b[0mself\u001b[0m\u001b[1;33m.\u001b[0m\u001b[0maxes\u001b[0m \u001b[1;33m=\u001b[0m \u001b[0maxes\u001b[0m\u001b[1;33m\u001b[0m\u001b[0m\n\u001b[0;32m     57\u001b[0m         \u001b[0mself\u001b[0m\u001b[1;33m.\u001b[0m\u001b[0mset_figure\u001b[0m\u001b[1;33m(\u001b[0m\u001b[0mself\u001b[0m\u001b[1;33m.\u001b[0m\u001b[0maxes\u001b[0m\u001b[1;33m.\u001b[0m\u001b[0mfigure\u001b[0m\u001b[1;33m)\u001b[0m\u001b[1;33m\u001b[0m\u001b[0m\n",
      "\u001b[1;32mD:\\LLAS\\lib\\site-packages\\matplotlib\\patches.py\u001b[0m in \u001b[0;36m__init__\u001b[1;34m(self, edgecolor, facecolor, color, linewidth, linestyle, antialiased, hatch, fill, capstyle, joinstyle, **kwargs)\u001b[0m\n\u001b[0;32m     94\u001b[0m         \u001b[1;32melse\u001b[0m\u001b[1;33m:\u001b[0m\u001b[1;33m\u001b[0m\u001b[0m\n\u001b[0;32m     95\u001b[0m             \u001b[0mself\u001b[0m\u001b[1;33m.\u001b[0m\u001b[0mset_edgecolor\u001b[0m\u001b[1;33m(\u001b[0m\u001b[0medgecolor\u001b[0m\u001b[1;33m)\u001b[0m\u001b[1;33m\u001b[0m\u001b[0m\n\u001b[1;32m---> 96\u001b[1;33m             \u001b[0mself\u001b[0m\u001b[1;33m.\u001b[0m\u001b[0mset_facecolor\u001b[0m\u001b[1;33m(\u001b[0m\u001b[0mfacecolor\u001b[0m\u001b[1;33m)\u001b[0m\u001b[1;33m\u001b[0m\u001b[0m\n\u001b[0m\u001b[0;32m     97\u001b[0m         \u001b[1;31m# unscaled dashes.  Needed to scale dash patterns by lw\u001b[0m\u001b[1;33m\u001b[0m\u001b[1;33m\u001b[0m\u001b[0m\n\u001b[0;32m     98\u001b[0m         \u001b[0mself\u001b[0m\u001b[1;33m.\u001b[0m\u001b[0m_us_dashes\u001b[0m \u001b[1;33m=\u001b[0m \u001b[1;32mNone\u001b[0m\u001b[1;33m\u001b[0m\u001b[0m\n",
      "\u001b[1;32mD:\\LLAS\\lib\\site-packages\\matplotlib\\patches.py\u001b[0m in \u001b[0;36mset_facecolor\u001b[1;34m(self, color)\u001b[0m\n\u001b[0;32m    302\u001b[0m         \"\"\"\n\u001b[0;32m    303\u001b[0m         \u001b[0mself\u001b[0m\u001b[1;33m.\u001b[0m\u001b[0m_original_facecolor\u001b[0m \u001b[1;33m=\u001b[0m \u001b[0mcolor\u001b[0m\u001b[1;33m\u001b[0m\u001b[0m\n\u001b[1;32m--> 304\u001b[1;33m         \u001b[0mself\u001b[0m\u001b[1;33m.\u001b[0m\u001b[0m_set_facecolor\u001b[0m\u001b[1;33m(\u001b[0m\u001b[0mcolor\u001b[0m\u001b[1;33m)\u001b[0m\u001b[1;33m\u001b[0m\u001b[0m\n\u001b[0m\u001b[0;32m    305\u001b[0m \u001b[1;33m\u001b[0m\u001b[0m\n\u001b[0;32m    306\u001b[0m     \u001b[1;32mdef\u001b[0m \u001b[0mset_fc\u001b[0m\u001b[1;33m(\u001b[0m\u001b[0mself\u001b[0m\u001b[1;33m,\u001b[0m \u001b[0mcolor\u001b[0m\u001b[1;33m)\u001b[0m\u001b[1;33m:\u001b[0m\u001b[1;33m\u001b[0m\u001b[0m\n",
      "\u001b[1;32mD:\\LLAS\\lib\\site-packages\\matplotlib\\patches.py\u001b[0m in \u001b[0;36m_set_facecolor\u001b[1;34m(self, color)\u001b[0m\n\u001b[0;32m    292\u001b[0m             \u001b[0mcolor\u001b[0m \u001b[1;33m=\u001b[0m \u001b[0mmpl\u001b[0m\u001b[1;33m.\u001b[0m\u001b[0mrcParams\u001b[0m\u001b[1;33m[\u001b[0m\u001b[1;34m'patch.facecolor'\u001b[0m\u001b[1;33m]\u001b[0m\u001b[1;33m\u001b[0m\u001b[0m\n\u001b[0;32m    293\u001b[0m         \u001b[0malpha\u001b[0m \u001b[1;33m=\u001b[0m \u001b[0mself\u001b[0m\u001b[1;33m.\u001b[0m\u001b[0m_alpha\u001b[0m \u001b[1;32mif\u001b[0m \u001b[0mself\u001b[0m\u001b[1;33m.\u001b[0m\u001b[0m_fill\u001b[0m \u001b[1;32melse\u001b[0m \u001b[1;36m0\u001b[0m\u001b[1;33m\u001b[0m\u001b[0m\n\u001b[1;32m--> 294\u001b[1;33m         \u001b[0mself\u001b[0m\u001b[1;33m.\u001b[0m\u001b[0m_facecolor\u001b[0m \u001b[1;33m=\u001b[0m \u001b[0mcolors\u001b[0m\u001b[1;33m.\u001b[0m\u001b[0mto_rgba\u001b[0m\u001b[1;33m(\u001b[0m\u001b[0mcolor\u001b[0m\u001b[1;33m,\u001b[0m \u001b[0malpha\u001b[0m\u001b[1;33m)\u001b[0m\u001b[1;33m\u001b[0m\u001b[0m\n\u001b[0m\u001b[0;32m    295\u001b[0m         \u001b[0mself\u001b[0m\u001b[1;33m.\u001b[0m\u001b[0mstale\u001b[0m \u001b[1;33m=\u001b[0m \u001b[1;32mTrue\u001b[0m\u001b[1;33m\u001b[0m\u001b[0m\n\u001b[0;32m    296\u001b[0m \u001b[1;33m\u001b[0m\u001b[0m\n",
      "\u001b[1;32mD:\\LLAS\\lib\\site-packages\\matplotlib\\colors.py\u001b[0m in \u001b[0;36mto_rgba\u001b[1;34m(c, alpha)\u001b[0m\n\u001b[0;32m    127\u001b[0m         \u001b[1;32mfrom\u001b[0m \u001b[0mmatplotlib\u001b[0m \u001b[1;32mimport\u001b[0m \u001b[0mrcParams\u001b[0m\u001b[1;33m\u001b[0m\u001b[0m\n\u001b[0;32m    128\u001b[0m         \u001b[0mprop_cycler\u001b[0m \u001b[1;33m=\u001b[0m \u001b[0mrcParams\u001b[0m\u001b[1;33m[\u001b[0m\u001b[1;34m'axes.prop_cycle'\u001b[0m\u001b[1;33m]\u001b[0m\u001b[1;33m\u001b[0m\u001b[0m\n\u001b[1;32m--> 129\u001b[1;33m         \u001b[0mcolors\u001b[0m \u001b[1;33m=\u001b[0m \u001b[0mprop_cycler\u001b[0m\u001b[1;33m.\u001b[0m\u001b[0mby_key\u001b[0m\u001b[1;33m(\u001b[0m\u001b[1;33m)\u001b[0m\u001b[1;33m.\u001b[0m\u001b[0mget\u001b[0m\u001b[1;33m(\u001b[0m\u001b[1;34m'color'\u001b[0m\u001b[1;33m,\u001b[0m \u001b[1;33m[\u001b[0m\u001b[1;34m'k'\u001b[0m\u001b[1;33m]\u001b[0m\u001b[1;33m)\u001b[0m\u001b[1;33m\u001b[0m\u001b[0m\n\u001b[0m\u001b[0;32m    130\u001b[0m         \u001b[0mc\u001b[0m \u001b[1;33m=\u001b[0m \u001b[0mcolors\u001b[0m\u001b[1;33m[\u001b[0m\u001b[0mint\u001b[0m\u001b[1;33m(\u001b[0m\u001b[0mc\u001b[0m\u001b[1;33m[\u001b[0m\u001b[1;36m1\u001b[0m\u001b[1;33m]\u001b[0m\u001b[1;33m)\u001b[0m \u001b[1;33m%\u001b[0m \u001b[0mlen\u001b[0m\u001b[1;33m(\u001b[0m\u001b[0mcolors\u001b[0m\u001b[1;33m)\u001b[0m\u001b[1;33m]\u001b[0m\u001b[1;33m\u001b[0m\u001b[0m\n\u001b[0;32m    131\u001b[0m     \u001b[1;32mtry\u001b[0m\u001b[1;33m:\u001b[0m\u001b[1;33m\u001b[0m\u001b[0m\n",
      "\u001b[1;32mD:\\LLAS\\lib\\site-packages\\cycler.py\u001b[0m in \u001b[0;36mby_key\u001b[1;34m(self)\u001b[0m\n\u001b[0;32m    369\u001b[0m         \u001b[0mkeys\u001b[0m \u001b[1;33m=\u001b[0m \u001b[0mself\u001b[0m\u001b[1;33m.\u001b[0m\u001b[0mkeys\u001b[0m\u001b[1;33m\u001b[0m\u001b[0m\n\u001b[0;32m    370\u001b[0m         \u001b[1;31m# change this to dict comprehension when drop 2.6\u001b[0m\u001b[1;33m\u001b[0m\u001b[1;33m\u001b[0m\u001b[0m\n\u001b[1;32m--> 371\u001b[1;33m         \u001b[0mout\u001b[0m \u001b[1;33m=\u001b[0m \u001b[0mdict\u001b[0m\u001b[1;33m(\u001b[0m\u001b[1;33m(\u001b[0m\u001b[0mk\u001b[0m\u001b[1;33m,\u001b[0m  \u001b[0mlist\u001b[0m\u001b[1;33m(\u001b[0m\u001b[1;33m)\u001b[0m\u001b[1;33m)\u001b[0m \u001b[1;32mfor\u001b[0m \u001b[0mk\u001b[0m \u001b[1;32min\u001b[0m \u001b[0mkeys\u001b[0m\u001b[1;33m)\u001b[0m\u001b[1;33m\u001b[0m\u001b[0m\n\u001b[0m\u001b[0;32m    372\u001b[0m \u001b[1;33m\u001b[0m\u001b[0m\n\u001b[0;32m    373\u001b[0m         \u001b[1;32mfor\u001b[0m \u001b[0md\u001b[0m \u001b[1;32min\u001b[0m \u001b[0mself\u001b[0m\u001b[1;33m:\u001b[0m\u001b[1;33m\u001b[0m\u001b[0m\n",
      "\u001b[1;31mKeyboardInterrupt\u001b[0m: "
     ]
    },
    {
     "data": {
      "image/png": "[encoded data removed]",
      "text/plain": [
       "<matplotlib.figure.Figure at 0x26da3a15630>"
      ]
     },
     "metadata": {},
     "output_type": "display_data"
    }
   ],
   "source": [
    "for epoch in range(total_epoch):\n",
    "    for i in range(total_batch):\n",
    "        \n",
    "        batch_xs, batch_ys = mnist.train.next_batch(batch_size)\n",
    "        noise = get_noise(batch_size, n_noise)\n",
    "        \n",
    "        _, loss_val_D = sess.run( [ train_D, loss_D ], feed_dict = { X: batch_xs, Z: noise } )\n",
    "        _, loss_val_G = sess.run( [ train_G, loss_G ], feed_dict = { Z: noise } )\n",
    "        \n",
    "        print('Epoch : ', '%04d' % epoch, 'D loss : {',loss_val_D,'}', 'G loss : {',loss_val_G,'}')\n",
    "        \n",
    "        if( epoch == 0 or ( epoch + 1 ) % 10 == 0 ):\n",
    "            sample_size=10\n",
    "            noise = get_noise(sample_size , n_noise)\n",
    "            samples = sess.run(G,feed_dict={Z:noise})\n",
    "            \n",
    "            fig, ax = plt.subplots(1,sample_size,figsize=(sample_size,1))\n",
    "            \n",
    "            for i in range(sample_size):\n",
    "                ax[i].set_axis_off()\n",
    "                ax[i].imshow(np.reshape(samples[i],(28,28)))\n",
    "                \n",
    "            plt.savefig('sample{}.png'.format(str(epoch).zfill(3)),bbox_inches='tight')\n",
    "            plt.close(fig)"
   ]
  },
  {
   "cell_type": "code",
   "execution_count": null,
   "metadata": {},
   "outputs": [],
   "source": []
  }
 ],
 "metadata": {
  "kernelspec": {
   "display_name": "Python 3",
   "language": "python",
   "name": "python3"
  },
  "language_info": {
   "codemirror_mode": {
    "name": "ipython",
    "version": 3
   },
   "file_extension": ".py",
   "mimetype": "text/x-python",
   "name": "python",
   "nbconvert_exporter": "python",
   "pygments_lexer": "ipython3",
   "version": "3.6.4"
  }
 },
 "nbformat": 4,
 "nbformat_minor": 2
}
