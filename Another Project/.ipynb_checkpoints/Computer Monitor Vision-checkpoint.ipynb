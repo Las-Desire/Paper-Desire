{
 "cells": [
  {
   "cell_type": "code",
   "execution_count": 1,
   "metadata": {},
   "outputs": [],
   "source": [
    "import cv2\n",
    "import numpy as np\n",
    "from PIL import ImageGrab"
   ]
  },
  {
   "cell_type": "code",
   "execution_count": 2,
   "metadata": {},
   "outputs": [],
   "source": [
    "img = ImageGrab.grab()"
   ]
  },
  {
   "cell_type": "code",
   "execution_count": 3,
   "metadata": {
    "scrolled": true
   },
   "outputs": [
    {
     "data": {
      "text/plain": [
       "array([[[83, 85, 94],\n",
       "        [83, 85, 94],\n",
       "        [83, 85, 94],\n",
       "        ...,\n",
       "        [83, 85, 94],\n",
       "        [83, 85, 94],\n",
       "        [83, 85, 94]],\n",
       "\n",
       "       [[83, 85, 94],\n",
       "        [83, 85, 94],\n",
       "        [83, 85, 94],\n",
       "        ...,\n",
       "        [83, 85, 94],\n",
       "        [83, 85, 94],\n",
       "        [83, 85, 94]],\n",
       "\n",
       "       [[83, 85, 94],\n",
       "        [83, 85, 94],\n",
       "        [83, 85, 94],\n",
       "        ...,\n",
       "        [83, 85, 94],\n",
       "        [83, 85, 94],\n",
       "        [83, 85, 94]],\n",
       "\n",
       "       ...,\n",
       "\n",
       "       [[ 9,  9, 10],\n",
       "        [ 8,  9,  9],\n",
       "        [ 8,  9,  9],\n",
       "        ...,\n",
       "        [ 5,  6,  6],\n",
       "        [ 5,  6,  6],\n",
       "        [ 5,  6,  6]],\n",
       "\n",
       "       [[ 9,  9, 10],\n",
       "        [ 8,  9, 10],\n",
       "        [ 8,  9, 10],\n",
       "        ...,\n",
       "        [ 5,  6,  6],\n",
       "        [ 5,  6,  6],\n",
       "        [ 5,  6,  6]],\n",
       "\n",
       "       [[ 8,  9, 10],\n",
       "        [ 8,  9, 10],\n",
       "        [ 8,  9, 10],\n",
       "        ...,\n",
       "        [ 4,  6,  6],\n",
       "        [ 5,  6,  6],\n",
       "        [ 5,  6,  6]]], dtype=uint8)"
      ]
     },
     "execution_count": 3,
     "metadata": {},
     "output_type": "execute_result"
    }
   ],
   "source": [
    "img_npA = np.array(img)\n",
    "img_npA"
   ]
  },
  {
   "cell_type": "code",
   "execution_count": 4,
   "metadata": {},
   "outputs": [],
   "source": [
    "frame = cv2.cvtColor(img_npA, cv2.COLOR_BGR2GRAY)"
   ]
  },
  {
   "cell_type": "code",
   "execution_count": 5,
   "metadata": {},
   "outputs": [],
   "source": [
    "cv2.imshow(\"qwe\",frame)\n",
    "cv2.waitKey(0)\n",
    "cv2.destroyAllWindows()"
   ]
  },
  {
   "cell_type": "code",
   "execution_count": null,
   "metadata": {},
   "outputs": [],
   "source": []
  }
 ],
 "metadata": {
  "kernelspec": {
   "display_name": "Python 3",
   "language": "python",
   "name": "python3"
  },
  "language_info": {
   "codemirror_mode": {
    "name": "ipython",
    "version": 3
   },
   "file_extension": ".py",
   "mimetype": "text/x-python",
   "name": "python",
   "nbconvert_exporter": "python",
   "pygments_lexer": "ipython3",
   "version": "3.6.4"
  }
 },
 "nbformat": 4,
 "nbformat_minor": 2
}
